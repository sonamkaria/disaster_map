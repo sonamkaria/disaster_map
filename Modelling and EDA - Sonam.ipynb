{
 "cells": [
  {
   "cell_type": "markdown",
   "metadata": {},
   "source": [
    "# Imports"
   ]
  },
  {
   "cell_type": "code",
   "execution_count": 5,
   "metadata": {},
   "outputs": [],
   "source": [
    "import pandas as pd\n",
    "import nltk\n",
    "from nltk.corpus import stopwords\n",
    "import numpy as np\n",
    "import matplotlib.pyplot as plt\n",
    "import seaborn as sns\n",
    "import json\n",
    "\n",
    "from sklearn.ensemble import RandomForestClassifier, ExtraTreesClassifier\n",
    "\n",
    "from sklearn.pipeline import Pipeline, FeatureUnion\n",
    "from sklearn.preprocessing import StandardScaler, FunctionTransformer\n",
    "from sklearn.linear_model import LogisticRegression\n",
    "from nltk.stem.porter import PorterStemmer\n",
    "from nltk.stem import WordNetLemmatizer\n",
    "\n",
    "\n",
    "\n",
    "import matplotlib.pyplot as plt\n",
    "import seaborn as sns\n",
    "\n",
    "from sklearn.linear_model import LogisticRegression, LinearRegression\n",
    "from sklearn.feature_extraction.text import CountVectorizer, ENGLISH_STOP_WORDS\n",
    "from sklearn.neighbors import KNeighborsClassifier\n",
    "from sklearn.preprocessing import StandardScaler \n",
    "from sklearn.model_selection import train_test_split, cross_val_score, GridSearchCV\n",
    "from sklearn.feature_extraction.text import CountVectorizer, TfidfVectorizer\n",
    "from sklearn.metrics import confusion_matrix, accuracy_score, classification_report"
   ]
  },
  {
   "cell_type": "code",
   "execution_count": 6,
   "metadata": {},
   "outputs": [],
   "source": [
    "df = pd.read_csv('./fin_df_103019.csv')"
   ]
  },
  {
   "cell_type": "code",
   "execution_count": 7,
   "metadata": {},
   "outputs": [
    {
     "data": {
      "text/html": [
       "<div>\n",
       "<style scoped>\n",
       "    .dataframe tbody tr th:only-of-type {\n",
       "        vertical-align: middle;\n",
       "    }\n",
       "\n",
       "    .dataframe tbody tr th {\n",
       "        vertical-align: top;\n",
       "    }\n",
       "\n",
       "    .dataframe thead th {\n",
       "        text-align: right;\n",
       "    }\n",
       "</style>\n",
       "<table border=\"1\" class=\"dataframe\">\n",
       "  <thead>\n",
       "    <tr style=\"text-align: right;\">\n",
       "      <th></th>\n",
       "      <th>text</th>\n",
       "      <th>hashtags</th>\n",
       "      <th>user_name</th>\n",
       "      <th>date</th>\n",
       "      <th>user_location</th>\n",
       "      <th>label</th>\n",
       "    </tr>\n",
       "  </thead>\n",
       "  <tbody>\n",
       "    <tr>\n",
       "      <td>0</td>\n",
       "      <td>Congrats pre</td>\n",
       "      <td>NaN</td>\n",
       "      <td>MasterAR9012502</td>\n",
       "      <td>2019-10-24 15:05:01+00:00</td>\n",
       "      <td>NaN</td>\n",
       "      <td>0</td>\n",
       "    </tr>\n",
       "    <tr>\n",
       "      <td>1</td>\n",
       "      <td>Wassup?</td>\n",
       "      <td>NaN</td>\n",
       "      <td>theprejon</td>\n",
       "      <td>2019-10-21 20:54:33+00:00</td>\n",
       "      <td>NaN</td>\n",
       "      <td>0</td>\n",
       "    </tr>\n",
       "    <tr>\n",
       "      <td>2</td>\n",
       "      <td>Ini mbc korea yang komen orang indo semueh,, b...</td>\n",
       "      <td>NaN</td>\n",
       "      <td>KhoyrR</td>\n",
       "      <td>2019-10-24 14:19:01+00:00</td>\n",
       "      <td>NaN</td>\n",
       "      <td>0</td>\n",
       "    </tr>\n",
       "    <tr>\n",
       "      <td>3</td>\n",
       "      <td>Meron pre?</td>\n",
       "      <td>NaN</td>\n",
       "      <td>Zendriccccc</td>\n",
       "      <td>2019-10-26 13:00:29+00:00</td>\n",
       "      <td>NaN</td>\n",
       "      <td>0</td>\n",
       "    </tr>\n",
       "    <tr>\n",
       "      <td>4</td>\n",
       "      <td>this is their pre-p3p5 fam love story thanks</td>\n",
       "      <td>NaN</td>\n",
       "      <td>akihikologist</td>\n",
       "      <td>2019-10-21 02:44:47+00:00</td>\n",
       "      <td>NaN</td>\n",
       "      <td>0</td>\n",
       "    </tr>\n",
       "  </tbody>\n",
       "</table>\n",
       "</div>"
      ],
      "text/plain": [
       "                                                text hashtags  \\\n",
       "0                                       Congrats pre      NaN   \n",
       "1                                            Wassup?      NaN   \n",
       "2  Ini mbc korea yang komen orang indo semueh,, b...      NaN   \n",
       "3                                         Meron pre?      NaN   \n",
       "4       this is their pre-p3p5 fam love story thanks      NaN   \n",
       "\n",
       "         user_name                       date user_location  label  \n",
       "0  MasterAR9012502  2019-10-24 15:05:01+00:00           NaN      0  \n",
       "1        theprejon  2019-10-21 20:54:33+00:00           NaN      0  \n",
       "2           KhoyrR  2019-10-24 14:19:01+00:00           NaN      0  \n",
       "3      Zendriccccc  2019-10-26 13:00:29+00:00           NaN      0  \n",
       "4    akihikologist  2019-10-21 02:44:47+00:00           NaN      0  "
      ]
     },
     "execution_count": 7,
     "metadata": {},
     "output_type": "execute_result"
    }
   ],
   "source": [
    "df.head()"
   ]
  },
  {
   "cell_type": "code",
   "execution_count": 8,
   "metadata": {},
   "outputs": [
    {
     "data": {
      "text/plain": [
       "(2728, 6)"
      ]
     },
     "execution_count": 8,
     "metadata": {},
     "output_type": "execute_result"
    }
   ],
   "source": [
    "df.shape"
   ]
  },
  {
   "cell_type": "code",
   "execution_count": 9,
   "metadata": {},
   "outputs": [
    {
     "data": {
      "text/plain": [
       "text                1\n",
       "hashtags         1315\n",
       "user_name           0\n",
       "date                3\n",
       "user_location    2726\n",
       "label               0\n",
       "dtype: int64"
      ]
     },
     "execution_count": 9,
     "metadata": {},
     "output_type": "execute_result"
    }
   ],
   "source": [
    "df.isnull().sum()"
   ]
  },
  {
   "cell_type": "code",
   "execution_count": 10,
   "metadata": {},
   "outputs": [
    {
     "data": {
      "text/plain": [
       "0    1840\n",
       "1     804\n",
       "2      84\n",
       "Name: label, dtype: int64"
      ]
     },
     "execution_count": 10,
     "metadata": {},
     "output_type": "execute_result"
    }
   ],
   "source": [
    "df['label'].value_counts()"
   ]
  },
  {
   "cell_type": "markdown",
   "metadata": {},
   "source": [
    "**Dropped rows where label == 2**\n",
    "\n",
    "Since label == 2 may or may not be relevant"
   ]
  },
  {
   "cell_type": "code",
   "execution_count": 11,
   "metadata": {},
   "outputs": [],
   "source": [
    "df = df[df['label']!=2]"
   ]
  },
  {
   "cell_type": "code",
   "execution_count": 12,
   "metadata": {},
   "outputs": [
    {
     "data": {
      "text/plain": [
       "0    1840\n",
       "1     804\n",
       "Name: label, dtype: int64"
      ]
     },
     "execution_count": 12,
     "metadata": {},
     "output_type": "execute_result"
    }
   ],
   "source": [
    "df['label'].value_counts()"
   ]
  },
  {
   "cell_type": "markdown",
   "metadata": {},
   "source": [
    "**Cleaning date column**\n",
    "\n",
    "Dropped the rows with null dates"
   ]
  },
  {
   "cell_type": "code",
   "execution_count": 13,
   "metadata": {},
   "outputs": [
    {
     "data": {
      "text/html": [
       "<div>\n",
       "<style scoped>\n",
       "    .dataframe tbody tr th:only-of-type {\n",
       "        vertical-align: middle;\n",
       "    }\n",
       "\n",
       "    .dataframe tbody tr th {\n",
       "        vertical-align: top;\n",
       "    }\n",
       "\n",
       "    .dataframe thead th {\n",
       "        text-align: right;\n",
       "    }\n",
       "</style>\n",
       "<table border=\"1\" class=\"dataframe\">\n",
       "  <thead>\n",
       "    <tr style=\"text-align: right;\">\n",
       "      <th></th>\n",
       "      <th>text</th>\n",
       "      <th>hashtags</th>\n",
       "      <th>user_name</th>\n",
       "      <th>date</th>\n",
       "      <th>user_location</th>\n",
       "      <th>label</th>\n",
       "    </tr>\n",
       "  </thead>\n",
       "  <tbody>\n",
       "    <tr>\n",
       "      <td>0</td>\n",
       "      <td>Congrats pre</td>\n",
       "      <td>NaN</td>\n",
       "      <td>MasterAR9012502</td>\n",
       "      <td>2019-10-24 15:05:01+00:00</td>\n",
       "      <td>NaN</td>\n",
       "      <td>0</td>\n",
       "    </tr>\n",
       "    <tr>\n",
       "      <td>1</td>\n",
       "      <td>Wassup?</td>\n",
       "      <td>NaN</td>\n",
       "      <td>theprejon</td>\n",
       "      <td>2019-10-21 20:54:33+00:00</td>\n",
       "      <td>NaN</td>\n",
       "      <td>0</td>\n",
       "    </tr>\n",
       "    <tr>\n",
       "      <td>2</td>\n",
       "      <td>Ini mbc korea yang komen orang indo semueh,, b...</td>\n",
       "      <td>NaN</td>\n",
       "      <td>KhoyrR</td>\n",
       "      <td>2019-10-24 14:19:01+00:00</td>\n",
       "      <td>NaN</td>\n",
       "      <td>0</td>\n",
       "    </tr>\n",
       "    <tr>\n",
       "      <td>3</td>\n",
       "      <td>Meron pre?</td>\n",
       "      <td>NaN</td>\n",
       "      <td>Zendriccccc</td>\n",
       "      <td>2019-10-26 13:00:29+00:00</td>\n",
       "      <td>NaN</td>\n",
       "      <td>0</td>\n",
       "    </tr>\n",
       "    <tr>\n",
       "      <td>4</td>\n",
       "      <td>this is their pre-p3p5 fam love story thanks</td>\n",
       "      <td>NaN</td>\n",
       "      <td>akihikologist</td>\n",
       "      <td>2019-10-21 02:44:47+00:00</td>\n",
       "      <td>NaN</td>\n",
       "      <td>0</td>\n",
       "    </tr>\n",
       "  </tbody>\n",
       "</table>\n",
       "</div>"
      ],
      "text/plain": [
       "                                                text hashtags  \\\n",
       "0                                       Congrats pre      NaN   \n",
       "1                                            Wassup?      NaN   \n",
       "2  Ini mbc korea yang komen orang indo semueh,, b...      NaN   \n",
       "3                                         Meron pre?      NaN   \n",
       "4       this is their pre-p3p5 fam love story thanks      NaN   \n",
       "\n",
       "         user_name                       date user_location  label  \n",
       "0  MasterAR9012502  2019-10-24 15:05:01+00:00           NaN      0  \n",
       "1        theprejon  2019-10-21 20:54:33+00:00           NaN      0  \n",
       "2           KhoyrR  2019-10-24 14:19:01+00:00           NaN      0  \n",
       "3      Zendriccccc  2019-10-26 13:00:29+00:00           NaN      0  \n",
       "4    akihikologist  2019-10-21 02:44:47+00:00           NaN      0  "
      ]
     },
     "execution_count": 13,
     "metadata": {},
     "output_type": "execute_result"
    }
   ],
   "source": [
    "df.head()"
   ]
  },
  {
   "cell_type": "code",
   "execution_count": 14,
   "metadata": {},
   "outputs": [],
   "source": [
    "df['text'] = df['text'].fillna(\"\").copy()"
   ]
  },
  {
   "cell_type": "code",
   "execution_count": 15,
   "metadata": {},
   "outputs": [],
   "source": [
    "df = df.drop('user_location', axis =1)"
   ]
  },
  {
   "cell_type": "code",
   "execution_count": 16,
   "metadata": {},
   "outputs": [
    {
     "data": {
      "text/html": [
       "<div>\n",
       "<style scoped>\n",
       "    .dataframe tbody tr th:only-of-type {\n",
       "        vertical-align: middle;\n",
       "    }\n",
       "\n",
       "    .dataframe tbody tr th {\n",
       "        vertical-align: top;\n",
       "    }\n",
       "\n",
       "    .dataframe thead th {\n",
       "        text-align: right;\n",
       "    }\n",
       "</style>\n",
       "<table border=\"1\" class=\"dataframe\">\n",
       "  <thead>\n",
       "    <tr style=\"text-align: right;\">\n",
       "      <th></th>\n",
       "      <th>text</th>\n",
       "      <th>hashtags</th>\n",
       "      <th>user_name</th>\n",
       "      <th>date</th>\n",
       "      <th>label</th>\n",
       "    </tr>\n",
       "  </thead>\n",
       "  <tbody>\n",
       "    <tr>\n",
       "      <td>0</td>\n",
       "      <td>Congrats pre</td>\n",
       "      <td>NaN</td>\n",
       "      <td>MasterAR9012502</td>\n",
       "      <td>2019-10-24 15:05:01+00:00</td>\n",
       "      <td>0</td>\n",
       "    </tr>\n",
       "    <tr>\n",
       "      <td>1</td>\n",
       "      <td>Wassup?</td>\n",
       "      <td>NaN</td>\n",
       "      <td>theprejon</td>\n",
       "      <td>2019-10-21 20:54:33+00:00</td>\n",
       "      <td>0</td>\n",
       "    </tr>\n",
       "    <tr>\n",
       "      <td>2</td>\n",
       "      <td>Ini mbc korea yang komen orang indo semueh,, b...</td>\n",
       "      <td>NaN</td>\n",
       "      <td>KhoyrR</td>\n",
       "      <td>2019-10-24 14:19:01+00:00</td>\n",
       "      <td>0</td>\n",
       "    </tr>\n",
       "    <tr>\n",
       "      <td>3</td>\n",
       "      <td>Meron pre?</td>\n",
       "      <td>NaN</td>\n",
       "      <td>Zendriccccc</td>\n",
       "      <td>2019-10-26 13:00:29+00:00</td>\n",
       "      <td>0</td>\n",
       "    </tr>\n",
       "    <tr>\n",
       "      <td>4</td>\n",
       "      <td>this is their pre-p3p5 fam love story thanks</td>\n",
       "      <td>NaN</td>\n",
       "      <td>akihikologist</td>\n",
       "      <td>2019-10-21 02:44:47+00:00</td>\n",
       "      <td>0</td>\n",
       "    </tr>\n",
       "  </tbody>\n",
       "</table>\n",
       "</div>"
      ],
      "text/plain": [
       "                                                text hashtags  \\\n",
       "0                                       Congrats pre      NaN   \n",
       "1                                            Wassup?      NaN   \n",
       "2  Ini mbc korea yang komen orang indo semueh,, b...      NaN   \n",
       "3                                         Meron pre?      NaN   \n",
       "4       this is their pre-p3p5 fam love story thanks      NaN   \n",
       "\n",
       "         user_name                       date  label  \n",
       "0  MasterAR9012502  2019-10-24 15:05:01+00:00      0  \n",
       "1        theprejon  2019-10-21 20:54:33+00:00      0  \n",
       "2           KhoyrR  2019-10-24 14:19:01+00:00      0  \n",
       "3      Zendriccccc  2019-10-26 13:00:29+00:00      0  \n",
       "4    akihikologist  2019-10-21 02:44:47+00:00      0  "
      ]
     },
     "execution_count": 16,
     "metadata": {},
     "output_type": "execute_result"
    }
   ],
   "source": [
    "df.head()"
   ]
  },
  {
   "cell_type": "code",
   "execution_count": 17,
   "metadata": {},
   "outputs": [
    {
     "data": {
      "text/html": [
       "<div>\n",
       "<style scoped>\n",
       "    .dataframe tbody tr th:only-of-type {\n",
       "        vertical-align: middle;\n",
       "    }\n",
       "\n",
       "    .dataframe tbody tr th {\n",
       "        vertical-align: top;\n",
       "    }\n",
       "\n",
       "    .dataframe thead th {\n",
       "        text-align: right;\n",
       "    }\n",
       "</style>\n",
       "<table border=\"1\" class=\"dataframe\">\n",
       "  <thead>\n",
       "    <tr style=\"text-align: right;\">\n",
       "      <th></th>\n",
       "      <th>text</th>\n",
       "      <th>hashtags</th>\n",
       "      <th>user_name</th>\n",
       "      <th>date</th>\n",
       "      <th>label</th>\n",
       "    </tr>\n",
       "  </thead>\n",
       "  <tbody>\n",
       "    <tr>\n",
       "      <td>0</td>\n",
       "      <td>Congrats pre</td>\n",
       "      <td>NaN</td>\n",
       "      <td>MasterAR9012502</td>\n",
       "      <td>2019-10-24 15:05:01+00:00</td>\n",
       "      <td>0</td>\n",
       "    </tr>\n",
       "    <tr>\n",
       "      <td>1</td>\n",
       "      <td>Wassup?</td>\n",
       "      <td>NaN</td>\n",
       "      <td>theprejon</td>\n",
       "      <td>2019-10-21 20:54:33+00:00</td>\n",
       "      <td>0</td>\n",
       "    </tr>\n",
       "    <tr>\n",
       "      <td>2</td>\n",
       "      <td>Ini mbc korea yang komen orang indo semueh,, b...</td>\n",
       "      <td>NaN</td>\n",
       "      <td>KhoyrR</td>\n",
       "      <td>2019-10-24 14:19:01+00:00</td>\n",
       "      <td>0</td>\n",
       "    </tr>\n",
       "    <tr>\n",
       "      <td>3</td>\n",
       "      <td>Meron pre?</td>\n",
       "      <td>NaN</td>\n",
       "      <td>Zendriccccc</td>\n",
       "      <td>2019-10-26 13:00:29+00:00</td>\n",
       "      <td>0</td>\n",
       "    </tr>\n",
       "    <tr>\n",
       "      <td>4</td>\n",
       "      <td>this is their pre-p3p5 fam love story thanks</td>\n",
       "      <td>NaN</td>\n",
       "      <td>akihikologist</td>\n",
       "      <td>2019-10-21 02:44:47+00:00</td>\n",
       "      <td>0</td>\n",
       "    </tr>\n",
       "  </tbody>\n",
       "</table>\n",
       "</div>"
      ],
      "text/plain": [
       "                                                text hashtags  \\\n",
       "0                                       Congrats pre      NaN   \n",
       "1                                            Wassup?      NaN   \n",
       "2  Ini mbc korea yang komen orang indo semueh,, b...      NaN   \n",
       "3                                         Meron pre?      NaN   \n",
       "4       this is their pre-p3p5 fam love story thanks      NaN   \n",
       "\n",
       "         user_name                       date  label  \n",
       "0  MasterAR9012502  2019-10-24 15:05:01+00:00      0  \n",
       "1        theprejon  2019-10-21 20:54:33+00:00      0  \n",
       "2           KhoyrR  2019-10-24 14:19:01+00:00      0  \n",
       "3      Zendriccccc  2019-10-26 13:00:29+00:00      0  \n",
       "4    akihikologist  2019-10-21 02:44:47+00:00      0  "
      ]
     },
     "execution_count": 17,
     "metadata": {},
     "output_type": "execute_result"
    }
   ],
   "source": [
    "df.head()"
   ]
  },
  {
   "cell_type": "markdown",
   "metadata": {},
   "source": [
    "# date time function"
   ]
  },
  {
   "cell_type": "code",
   "execution_count": 18,
   "metadata": {},
   "outputs": [],
   "source": [
    "def clean_time(df, column=\"date\"):\n",
    "    #drop rows with no date information \n",
    "    df = df.dropna(subset=[\"date\"])\n",
    "    \n",
    "    #split day and time information\n",
    "    df[\"split_date\"] = df[\"date\"].str.split(\"-\")\n",
    "    \n",
    "    #pull out month and make column\n",
    "    df[\"month\"] = df[\"split_date\"].str.get(1).astype(int)\n",
    "    #pull out day/time information\n",
    "    df[\"time\"] = df[\"split_date\"].str.get(2)\n",
    "    #split day from time on space\n",
    "    df[\"time_split\"] = df[\"time\"].str.split(\" \")\n",
    "    #pull out day\n",
    "    df[\"day\"] = df[\"time_split\"].str.get(0).astype(int)\n",
    "    #now look at time\n",
    "    df[\"time_col\"] = df[\"time_split\"].str.get(1)\n",
    "    #split on + to separate out time from timezone\n",
    "    df[\"hour_min_sec\"] = df[\"time_col\"].str.split(\"+\")\n",
    "    #all timezones are assumed to be GMT so ignoring and focusing on time\n",
    "    df[\"hour_min_sec\"] = df[\"hour_min_sec\"].str.split(\":\")\n",
    "    df[\"hour\"] = df[\"hour_min_sec\"].str.get(0).astype(int)\n",
    "    df[\"minute\"] = df[\"hour_min_sec\"].str.get(1).astype(int)\n",
    "    df[\"second\"] = df[\"hour_min_sec\"].str.get(2).astype(int)\n",
    "    #dropping temp columns I made\n",
    "    df = df.drop(columns=[\"date\", \"split_date\", \"time\", \"time_split\", \"time_col\", \"hour_min_sec\"])\n",
    "    return df\n",
    "  "
   ]
  },
  {
   "cell_type": "code",
   "execution_count": null,
   "metadata": {},
   "outputs": [],
   "source": []
  },
  {
   "cell_type": "markdown",
   "metadata": {},
   "source": [
    "**Funtion that checks which dataframe a word belongs to**"
   ]
  },
  {
   "cell_type": "code",
   "execution_count": 19,
   "metadata": {},
   "outputs": [],
   "source": [
    "def what_post(dataframe, word):\n",
    "    \"\"\"\n",
    "    Return rows of 'orig_df' that 'word' is included in text\n",
    "    \n",
    "    Parameters\n",
    "    word: str or list\n",
    "    \"\"\"\n",
    "    if type(word) == str:\n",
    "        return dataframe[(dataframe['text'].str.contains(word))]\n",
    "    if type(word) == list:\n",
    "        return dataframe[dataframe['text'].str.contains('|'.join(word))]"
   ]
  },
  {
   "cell_type": "code",
   "execution_count": null,
   "metadata": {},
   "outputs": [],
   "source": []
  },
  {
   "cell_type": "markdown",
   "metadata": {},
   "source": [
    "# Stop Words\n",
    "Removed obvious stop words "
   ]
  },
  {
   "cell_type": "code",
   "execution_count": 20,
   "metadata": {},
   "outputs": [],
   "source": [
    "custom_stop = list(ENGLISH_STOP_WORDS)\n",
    "custom_stop.extend(['fire', 'firefighters', 'twitter', 'pic', 'www', 'http', 'https',\n",
    "                    'com', 'ho', 'bad', 'new', 'round', '3a', 'trueanthem', 'content', 'content_utm',\n",
    "                    'wildfire', 'busted', 'burns', 'patch', 'california', 'utm_campaign',\n",
    "                   'massive', 'haunted', 'remains'])\n"
   ]
  },
  {
   "cell_type": "code",
   "execution_count": 21,
   "metadata": {},
   "outputs": [
    {
     "data": {
      "image/png": "[encoded data removed]",
      "text/plain": [
       "<Figure size 720x576 with 1 Axes>"
      ]
     },
     "metadata": {
      "needs_background": "light"
     },
     "output_type": "display_data"
    }
   ],
   "source": [
    "cv = CountVectorizer(stop_words=custom_stop, ngram_range =(4,4), min_df= 2)\n",
    "text_ft_sw= cv.fit_transform(df['text'])\n",
    "text_df_sw= pd.DataFrame(text_ft_sw.toarray(), columns=cv.get_feature_names())\n",
    "text_df_sw.sum().sort_values(ascending=False).head(20).plot(kind='barh', figsize= (10,8));"
   ]
  },
  {
   "cell_type": "markdown",
   "metadata": {},
   "source": [
    "\n",
    "**Perform a split of our `X` and `y`.**\n",
    "\n",
    "-`Performing train/test splits using scikit-learn `\n",
    "\n",
    "-`Setting the random state at 740`"
   ]
  },
  {
   "cell_type": "code",
   "execution_count": 22,
   "metadata": {},
   "outputs": [],
   "source": [
    "X = df['text']\n",
    "y = df['label']\n",
    "\n",
    "random_state = 740\n",
    "\n",
    "X_train,X_test, y_train,y_test = train_test_split(X, y)\n"
   ]
  },
  {
   "cell_type": "markdown",
   "metadata": {},
   "source": [
    "# Logistic Regression : TF- IDF"
   ]
  },
  {
   "cell_type": "markdown",
   "metadata": {},
   "source": [
    "**Searching for best hyperparameters using Gridsearch**\n",
    "\n",
    "| Argument | Description |\n",
    "| --- | ---|\n",
    "| **`penalty`** | Used to specify the norm used in the penalization  |\n",
    "| **`n_gram_range`** | The lower and upper boundary of the range of n-values for different n-grams to be extracted. |\n",
    "| **`stop_words`** | List is assumed to contain stop words, all of which will be removed from the resulting tokens. |\n",
    "| **`max_df`** | When building the vocabulary ignore terms that have a document frequency strictly higher than the given threshold  |\n",
    "| **`min_df`** | When building the vocabulary ignore terms that have a document frequency strictly lower than the given threshold. |\n",
    "| **`analyzer`** | Whether the feature should be made of word or character n-grams. |\n",
    "| **`max_features`** | Build a vocabulary that only consider the top max_features ordered by term frequency across the corpus |"
   ]
  },
  {
   "cell_type": "markdown",
   "metadata": {},
   "source": [
    "**Building pipeline before Gridsearching**"
   ]
  },
  {
   "cell_type": "code",
   "execution_count": 24,
   "metadata": {},
   "outputs": [],
   "source": [
    "pipe = Pipeline([('tfidf', TfidfVectorizer()),\n",
    "                 ('logreg', LogisticRegression( penalty = 'l2'))\n",
    "                ])"
   ]
  },
  {
   "cell_type": "code",
   "execution_count": 25,
   "metadata": {},
   "outputs": [],
   "source": [
    "pipe_params = {\n",
    "    'tfidf__ngram_range' :[(1,1)],\n",
    "    'tfidf__stop_words' :[custom_stop],\n",
    "    'tfidf__max_df':[.8],\n",
    "    'tfidf__min_df' :[3,4,5,6,7],\n",
    "    'tfidf__analyzer': ['word'],\n",
    "    'tfidf__max_features':[5000, 3000, 2000]\n",
    "    \n",
    "}"
   ]
  },
  {
   "cell_type": "markdown",
   "metadata": {},
   "source": [
    "**Using TF-IDF Logistic Regression Model our scores are:**\n",
    "\n",
    "`Training score`: 0.8895612708018155\n",
    "\n",
    "`Testing score`: 0.8608169440242057"
   ]
  },
  {
   "cell_type": "code",
   "execution_count": 26,
   "metadata": {},
   "outputs": [
    {
     "name": "stderr",
     "output_type": "stream",
     "text": [
      "/Users/jk/anaconda3/lib/python3.7/site-packages/sklearn/linear_model/logistic.py:432: FutureWarning: Default solver will be changed to 'lbfgs' in 0.22. Specify a solver to silence this warning.\n",
      "  FutureWarning)\n",
      "/Users/jk/anaconda3/lib/python3.7/site-packages/sklearn/linear_model/logistic.py:432: FutureWarning: Default solver will be changed to 'lbfgs' in 0.22. Specify a solver to silence this warning.\n",
      "  FutureWarning)\n",
      "/Users/jk/anaconda3/lib/python3.7/site-packages/sklearn/linear_model/logistic.py:432: FutureWarning: Default solver will be changed to 'lbfgs' in 0.22. Specify a solver to silence this warning.\n",
      "  FutureWarning)\n",
      "/Users/jk/anaconda3/lib/python3.7/site-packages/sklearn/linear_model/logistic.py:432: FutureWarning: Default solver will be changed to 'lbfgs' in 0.22. Specify a solver to silence this warning.\n",
      "  FutureWarning)\n",
      "/Users/jk/anaconda3/lib/python3.7/site-packages/sklearn/linear_model/logistic.py:432: FutureWarning: Default solver will be changed to 'lbfgs' in 0.22. Specify a solver to silence this warning.\n",
      "  FutureWarning)\n",
      "/Users/jk/anaconda3/lib/python3.7/site-packages/sklearn/linear_model/logistic.py:432: FutureWarning: Default solver will be changed to 'lbfgs' in 0.22. Specify a solver to silence this warning.\n",
      "  FutureWarning)\n",
      "/Users/jk/anaconda3/lib/python3.7/site-packages/sklearn/linear_model/logistic.py:432: FutureWarning: Default solver will be changed to 'lbfgs' in 0.22. Specify a solver to silence this warning.\n",
      "  FutureWarning)\n",
      "/Users/jk/anaconda3/lib/python3.7/site-packages/sklearn/linear_model/logistic.py:432: FutureWarning: Default solver will be changed to 'lbfgs' in 0.22. Specify a solver to silence this warning.\n",
      "  FutureWarning)\n",
      "/Users/jk/anaconda3/lib/python3.7/site-packages/sklearn/linear_model/logistic.py:432: FutureWarning: Default solver will be changed to 'lbfgs' in 0.22. Specify a solver to silence this warning.\n",
      "  FutureWarning)\n",
      "/Users/jk/anaconda3/lib/python3.7/site-packages/sklearn/linear_model/logistic.py:432: FutureWarning: Default solver will be changed to 'lbfgs' in 0.22. Specify a solver to silence this warning.\n",
      "  FutureWarning)\n",
      "/Users/jk/anaconda3/lib/python3.7/site-packages/sklearn/linear_model/logistic.py:432: FutureWarning: Default solver will be changed to 'lbfgs' in 0.22. Specify a solver to silence this warning.\n",
      "  FutureWarning)\n",
      "/Users/jk/anaconda3/lib/python3.7/site-packages/sklearn/linear_model/logistic.py:432: FutureWarning: Default solver will be changed to 'lbfgs' in 0.22. Specify a solver to silence this warning.\n",
      "  FutureWarning)\n",
      "/Users/jk/anaconda3/lib/python3.7/site-packages/sklearn/linear_model/logistic.py:432: FutureWarning: Default solver will be changed to 'lbfgs' in 0.22. Specify a solver to silence this warning.\n",
      "  FutureWarning)\n",
      "/Users/jk/anaconda3/lib/python3.7/site-packages/sklearn/linear_model/logistic.py:432: FutureWarning: Default solver will be changed to 'lbfgs' in 0.22. Specify a solver to silence this warning.\n",
      "  FutureWarning)\n",
      "/Users/jk/anaconda3/lib/python3.7/site-packages/sklearn/linear_model/logistic.py:432: FutureWarning: Default solver will be changed to 'lbfgs' in 0.22. Specify a solver to silence this warning.\n",
      "  FutureWarning)\n",
      "/Users/jk/anaconda3/lib/python3.7/site-packages/sklearn/linear_model/logistic.py:432: FutureWarning: Default solver will be changed to 'lbfgs' in 0.22. Specify a solver to silence this warning.\n",
      "  FutureWarning)\n",
      "/Users/jk/anaconda3/lib/python3.7/site-packages/sklearn/linear_model/logistic.py:432: FutureWarning: Default solver will be changed to 'lbfgs' in 0.22. Specify a solver to silence this warning.\n",
      "  FutureWarning)\n",
      "/Users/jk/anaconda3/lib/python3.7/site-packages/sklearn/linear_model/logistic.py:432: FutureWarning: Default solver will be changed to 'lbfgs' in 0.22. Specify a solver to silence this warning.\n",
      "  FutureWarning)\n",
      "/Users/jk/anaconda3/lib/python3.7/site-packages/sklearn/linear_model/logistic.py:432: FutureWarning: Default solver will be changed to 'lbfgs' in 0.22. Specify a solver to silence this warning.\n",
      "  FutureWarning)\n",
      "/Users/jk/anaconda3/lib/python3.7/site-packages/sklearn/linear_model/logistic.py:432: FutureWarning: Default solver will be changed to 'lbfgs' in 0.22. Specify a solver to silence this warning.\n",
      "  FutureWarning)\n",
      "/Users/jk/anaconda3/lib/python3.7/site-packages/sklearn/linear_model/logistic.py:432: FutureWarning: Default solver will be changed to 'lbfgs' in 0.22. Specify a solver to silence this warning.\n",
      "  FutureWarning)\n",
      "/Users/jk/anaconda3/lib/python3.7/site-packages/sklearn/linear_model/logistic.py:432: FutureWarning: Default solver will be changed to 'lbfgs' in 0.22. Specify a solver to silence this warning.\n",
      "  FutureWarning)\n",
      "/Users/jk/anaconda3/lib/python3.7/site-packages/sklearn/linear_model/logistic.py:432: FutureWarning: Default solver will be changed to 'lbfgs' in 0.22. Specify a solver to silence this warning.\n",
      "  FutureWarning)\n",
      "/Users/jk/anaconda3/lib/python3.7/site-packages/sklearn/linear_model/logistic.py:432: FutureWarning: Default solver will be changed to 'lbfgs' in 0.22. Specify a solver to silence this warning.\n",
      "  FutureWarning)\n",
      "/Users/jk/anaconda3/lib/python3.7/site-packages/sklearn/linear_model/logistic.py:432: FutureWarning: Default solver will be changed to 'lbfgs' in 0.22. Specify a solver to silence this warning.\n",
      "  FutureWarning)\n",
      "/Users/jk/anaconda3/lib/python3.7/site-packages/sklearn/linear_model/logistic.py:432: FutureWarning: Default solver will be changed to 'lbfgs' in 0.22. Specify a solver to silence this warning.\n",
      "  FutureWarning)\n",
      "/Users/jk/anaconda3/lib/python3.7/site-packages/sklearn/linear_model/logistic.py:432: FutureWarning: Default solver will be changed to 'lbfgs' in 0.22. Specify a solver to silence this warning.\n",
      "  FutureWarning)\n",
      "/Users/jk/anaconda3/lib/python3.7/site-packages/sklearn/linear_model/logistic.py:432: FutureWarning: Default solver will be changed to 'lbfgs' in 0.22. Specify a solver to silence this warning.\n",
      "  FutureWarning)\n",
      "/Users/jk/anaconda3/lib/python3.7/site-packages/sklearn/linear_model/logistic.py:432: FutureWarning: Default solver will be changed to 'lbfgs' in 0.22. Specify a solver to silence this warning.\n",
      "  FutureWarning)\n",
      "/Users/jk/anaconda3/lib/python3.7/site-packages/sklearn/linear_model/logistic.py:432: FutureWarning: Default solver will be changed to 'lbfgs' in 0.22. Specify a solver to silence this warning.\n",
      "  FutureWarning)\n",
      "/Users/jk/anaconda3/lib/python3.7/site-packages/sklearn/linear_model/logistic.py:432: FutureWarning: Default solver will be changed to 'lbfgs' in 0.22. Specify a solver to silence this warning.\n",
      "  FutureWarning)\n",
      "/Users/jk/anaconda3/lib/python3.7/site-packages/sklearn/linear_model/logistic.py:432: FutureWarning: Default solver will be changed to 'lbfgs' in 0.22. Specify a solver to silence this warning.\n",
      "  FutureWarning)\n",
      "/Users/jk/anaconda3/lib/python3.7/site-packages/sklearn/linear_model/logistic.py:432: FutureWarning: Default solver will be changed to 'lbfgs' in 0.22. Specify a solver to silence this warning.\n",
      "  FutureWarning)\n",
      "/Users/jk/anaconda3/lib/python3.7/site-packages/sklearn/linear_model/logistic.py:432: FutureWarning: Default solver will be changed to 'lbfgs' in 0.22. Specify a solver to silence this warning.\n",
      "  FutureWarning)\n",
      "/Users/jk/anaconda3/lib/python3.7/site-packages/sklearn/linear_model/logistic.py:432: FutureWarning: Default solver will be changed to 'lbfgs' in 0.22. Specify a solver to silence this warning.\n",
      "  FutureWarning)\n",
      "/Users/jk/anaconda3/lib/python3.7/site-packages/sklearn/linear_model/logistic.py:432: FutureWarning: Default solver will be changed to 'lbfgs' in 0.22. Specify a solver to silence this warning.\n",
      "  FutureWarning)\n",
      "/Users/jk/anaconda3/lib/python3.7/site-packages/sklearn/linear_model/logistic.py:432: FutureWarning: Default solver will be changed to 'lbfgs' in 0.22. Specify a solver to silence this warning.\n",
      "  FutureWarning)\n",
      "/Users/jk/anaconda3/lib/python3.7/site-packages/sklearn/linear_model/logistic.py:432: FutureWarning: Default solver will be changed to 'lbfgs' in 0.22. Specify a solver to silence this warning.\n",
      "  FutureWarning)\n",
      "/Users/jk/anaconda3/lib/python3.7/site-packages/sklearn/linear_model/logistic.py:432: FutureWarning: Default solver will be changed to 'lbfgs' in 0.22. Specify a solver to silence this warning.\n",
      "  FutureWarning)\n",
      "/Users/jk/anaconda3/lib/python3.7/site-packages/sklearn/linear_model/logistic.py:432: FutureWarning: Default solver will be changed to 'lbfgs' in 0.22. Specify a solver to silence this warning.\n",
      "  FutureWarning)\n"
     ]
    },
    {
     "name": "stderr",
     "output_type": "stream",
     "text": [
      "/Users/jk/anaconda3/lib/python3.7/site-packages/sklearn/linear_model/logistic.py:432: FutureWarning: Default solver will be changed to 'lbfgs' in 0.22. Specify a solver to silence this warning.\n",
      "  FutureWarning)\n",
      "/Users/jk/anaconda3/lib/python3.7/site-packages/sklearn/linear_model/logistic.py:432: FutureWarning: Default solver will be changed to 'lbfgs' in 0.22. Specify a solver to silence this warning.\n",
      "  FutureWarning)\n",
      "/Users/jk/anaconda3/lib/python3.7/site-packages/sklearn/linear_model/logistic.py:432: FutureWarning: Default solver will be changed to 'lbfgs' in 0.22. Specify a solver to silence this warning.\n",
      "  FutureWarning)\n",
      "/Users/jk/anaconda3/lib/python3.7/site-packages/sklearn/linear_model/logistic.py:432: FutureWarning: Default solver will be changed to 'lbfgs' in 0.22. Specify a solver to silence this warning.\n",
      "  FutureWarning)\n",
      "/Users/jk/anaconda3/lib/python3.7/site-packages/sklearn/linear_model/logistic.py:432: FutureWarning: Default solver will be changed to 'lbfgs' in 0.22. Specify a solver to silence this warning.\n",
      "  FutureWarning)\n",
      "/Users/jk/anaconda3/lib/python3.7/site-packages/sklearn/linear_model/logistic.py:432: FutureWarning: Default solver will be changed to 'lbfgs' in 0.22. Specify a solver to silence this warning.\n",
      "  FutureWarning)\n",
      "/Users/jk/anaconda3/lib/python3.7/site-packages/sklearn/linear_model/logistic.py:432: FutureWarning: Default solver will be changed to 'lbfgs' in 0.22. Specify a solver to silence this warning.\n",
      "  FutureWarning)\n",
      "/Users/jk/anaconda3/lib/python3.7/site-packages/sklearn/linear_model/logistic.py:432: FutureWarning: Default solver will be changed to 'lbfgs' in 0.22. Specify a solver to silence this warning.\n",
      "  FutureWarning)\n",
      "/Users/jk/anaconda3/lib/python3.7/site-packages/sklearn/linear_model/logistic.py:432: FutureWarning: Default solver will be changed to 'lbfgs' in 0.22. Specify a solver to silence this warning.\n",
      "  FutureWarning)\n",
      "/Users/jk/anaconda3/lib/python3.7/site-packages/sklearn/linear_model/logistic.py:432: FutureWarning: Default solver will be changed to 'lbfgs' in 0.22. Specify a solver to silence this warning.\n",
      "  FutureWarning)\n",
      "/Users/jk/anaconda3/lib/python3.7/site-packages/sklearn/linear_model/logistic.py:432: FutureWarning: Default solver will be changed to 'lbfgs' in 0.22. Specify a solver to silence this warning.\n",
      "  FutureWarning)\n",
      "/Users/jk/anaconda3/lib/python3.7/site-packages/sklearn/linear_model/logistic.py:432: FutureWarning: Default solver will be changed to 'lbfgs' in 0.22. Specify a solver to silence this warning.\n",
      "  FutureWarning)\n",
      "/Users/jk/anaconda3/lib/python3.7/site-packages/sklearn/linear_model/logistic.py:432: FutureWarning: Default solver will be changed to 'lbfgs' in 0.22. Specify a solver to silence this warning.\n",
      "  FutureWarning)\n",
      "/Users/jk/anaconda3/lib/python3.7/site-packages/sklearn/linear_model/logistic.py:432: FutureWarning: Default solver will be changed to 'lbfgs' in 0.22. Specify a solver to silence this warning.\n",
      "  FutureWarning)\n",
      "/Users/jk/anaconda3/lib/python3.7/site-packages/sklearn/linear_model/logistic.py:432: FutureWarning: Default solver will be changed to 'lbfgs' in 0.22. Specify a solver to silence this warning.\n",
      "  FutureWarning)\n",
      "/Users/jk/anaconda3/lib/python3.7/site-packages/sklearn/linear_model/logistic.py:432: FutureWarning: Default solver will be changed to 'lbfgs' in 0.22. Specify a solver to silence this warning.\n",
      "  FutureWarning)\n",
      "/Users/jk/anaconda3/lib/python3.7/site-packages/sklearn/linear_model/logistic.py:432: FutureWarning: Default solver will be changed to 'lbfgs' in 0.22. Specify a solver to silence this warning.\n",
      "  FutureWarning)\n",
      "/Users/jk/anaconda3/lib/python3.7/site-packages/sklearn/linear_model/logistic.py:432: FutureWarning: Default solver will be changed to 'lbfgs' in 0.22. Specify a solver to silence this warning.\n",
      "  FutureWarning)\n",
      "/Users/jk/anaconda3/lib/python3.7/site-packages/sklearn/linear_model/logistic.py:432: FutureWarning: Default solver will be changed to 'lbfgs' in 0.22. Specify a solver to silence this warning.\n",
      "  FutureWarning)\n",
      "/Users/jk/anaconda3/lib/python3.7/site-packages/sklearn/linear_model/logistic.py:432: FutureWarning: Default solver will be changed to 'lbfgs' in 0.22. Specify a solver to silence this warning.\n",
      "  FutureWarning)\n",
      "/Users/jk/anaconda3/lib/python3.7/site-packages/sklearn/linear_model/logistic.py:432: FutureWarning: Default solver will be changed to 'lbfgs' in 0.22. Specify a solver to silence this warning.\n",
      "  FutureWarning)\n",
      "/Users/jk/anaconda3/lib/python3.7/site-packages/sklearn/linear_model/logistic.py:432: FutureWarning: Default solver will be changed to 'lbfgs' in 0.22. Specify a solver to silence this warning.\n",
      "  FutureWarning)\n",
      "/Users/jk/anaconda3/lib/python3.7/site-packages/sklearn/linear_model/logistic.py:432: FutureWarning: Default solver will be changed to 'lbfgs' in 0.22. Specify a solver to silence this warning.\n",
      "  FutureWarning)\n",
      "/Users/jk/anaconda3/lib/python3.7/site-packages/sklearn/linear_model/logistic.py:432: FutureWarning: Default solver will be changed to 'lbfgs' in 0.22. Specify a solver to silence this warning.\n",
      "  FutureWarning)\n",
      "/Users/jk/anaconda3/lib/python3.7/site-packages/sklearn/linear_model/logistic.py:432: FutureWarning: Default solver will be changed to 'lbfgs' in 0.22. Specify a solver to silence this warning.\n",
      "  FutureWarning)\n",
      "/Users/jk/anaconda3/lib/python3.7/site-packages/sklearn/linear_model/logistic.py:432: FutureWarning: Default solver will be changed to 'lbfgs' in 0.22. Specify a solver to silence this warning.\n",
      "  FutureWarning)\n",
      "/Users/jk/anaconda3/lib/python3.7/site-packages/sklearn/linear_model/logistic.py:432: FutureWarning: Default solver will be changed to 'lbfgs' in 0.22. Specify a solver to silence this warning.\n",
      "  FutureWarning)\n",
      "/Users/jk/anaconda3/lib/python3.7/site-packages/sklearn/linear_model/logistic.py:432: FutureWarning: Default solver will be changed to 'lbfgs' in 0.22. Specify a solver to silence this warning.\n",
      "  FutureWarning)\n",
      "/Users/jk/anaconda3/lib/python3.7/site-packages/sklearn/linear_model/logistic.py:432: FutureWarning: Default solver will be changed to 'lbfgs' in 0.22. Specify a solver to silence this warning.\n",
      "  FutureWarning)\n",
      "/Users/jk/anaconda3/lib/python3.7/site-packages/sklearn/linear_model/logistic.py:432: FutureWarning: Default solver will be changed to 'lbfgs' in 0.22. Specify a solver to silence this warning.\n",
      "  FutureWarning)\n",
      "/Users/jk/anaconda3/lib/python3.7/site-packages/sklearn/linear_model/logistic.py:432: FutureWarning: Default solver will be changed to 'lbfgs' in 0.22. Specify a solver to silence this warning.\n",
      "  FutureWarning)\n",
      "/Users/jk/anaconda3/lib/python3.7/site-packages/sklearn/linear_model/logistic.py:432: FutureWarning: Default solver will be changed to 'lbfgs' in 0.22. Specify a solver to silence this warning.\n",
      "  FutureWarning)\n",
      "/Users/jk/anaconda3/lib/python3.7/site-packages/sklearn/linear_model/logistic.py:432: FutureWarning: Default solver will be changed to 'lbfgs' in 0.22. Specify a solver to silence this warning.\n",
      "  FutureWarning)\n",
      "/Users/jk/anaconda3/lib/python3.7/site-packages/sklearn/linear_model/logistic.py:432: FutureWarning: Default solver will be changed to 'lbfgs' in 0.22. Specify a solver to silence this warning.\n",
      "  FutureWarning)\n",
      "/Users/jk/anaconda3/lib/python3.7/site-packages/sklearn/linear_model/logistic.py:432: FutureWarning: Default solver will be changed to 'lbfgs' in 0.22. Specify a solver to silence this warning.\n",
      "  FutureWarning)\n",
      "/Users/jk/anaconda3/lib/python3.7/site-packages/sklearn/linear_model/logistic.py:432: FutureWarning: Default solver will be changed to 'lbfgs' in 0.22. Specify a solver to silence this warning.\n",
      "  FutureWarning)\n"
     ]
    },
    {
     "data": {
      "text/plain": [
       "0.8895612708018155"
      ]
     },
     "execution_count": 26,
     "metadata": {},
     "output_type": "execute_result"
    }
   ],
   "source": [
    "gs = GridSearchCV(pipe, pipe_params, cv = 5)\n",
    "gs.fit(X_train, y_train)\n",
    "gs.score(X_train,y_train)"
   ]
  },
  {
   "cell_type": "code",
   "execution_count": 27,
   "metadata": {},
   "outputs": [
    {
     "data": {
      "text/plain": [
       "0.8608169440242057"
      ]
     },
     "execution_count": 27,
     "metadata": {},
     "output_type": "execute_result"
    }
   ],
   "source": [
    "gs.score(X_test,y_test)"
   ]
  },
  {
   "cell_type": "markdown",
   "metadata": {},
   "source": [
    "**Best Parameters from our Gridsearch**"
   ]
  },
  {
   "cell_type": "code",
   "execution_count": 251,
   "metadata": {},
   "outputs": [
    {
     "data": {
      "text/plain": [
       "{'tfidf__analyzer': 'word',\n",
       " 'tfidf__max_df': 0.8,\n",
       " 'tfidf__max_features': 5000,\n",
       " 'tfidf__min_df': 6,\n",
       " 'tfidf__ngram_range': (1, 1),\n",
       " 'tfidf__stop_words': ['amongst',\n",
       "  'etc',\n",
       "  'they',\n",
       "  'hereby',\n",
       "  'top',\n",
       "  'last',\n",
       "  'but',\n",
       "  'somehow',\n",
       "  'to',\n",
       "  'much',\n",
       "  'nor',\n",
       "  'out',\n",
       "  'he',\n",
       "  'herein',\n",
       "  'rather',\n",
       "  'further',\n",
       "  'been',\n",
       "  'will',\n",
       "  'here',\n",
       "  'perhaps',\n",
       "  'meanwhile',\n",
       "  'until',\n",
       "  'seeming',\n",
       "  'her',\n",
       "  'fifty',\n",
       "  'him',\n",
       "  'between',\n",
       "  'had',\n",
       "  'call',\n",
       "  'everything',\n",
       "  'we',\n",
       "  'ie',\n",
       "  'our',\n",
       "  'thereby',\n",
       "  'was',\n",
       "  'keep',\n",
       "  'same',\n",
       "  'you',\n",
       "  'are',\n",
       "  'whose',\n",
       "  'more',\n",
       "  'through',\n",
       "  'whither',\n",
       "  'without',\n",
       "  'from',\n",
       "  'become',\n",
       "  'hasnt',\n",
       "  'three',\n",
       "  'yourself',\n",
       "  'since',\n",
       "  'amount',\n",
       "  'alone',\n",
       "  'system',\n",
       "  'all',\n",
       "  'co',\n",
       "  'very',\n",
       "  'both',\n",
       "  'wherein',\n",
       "  'thus',\n",
       "  'even',\n",
       "  'found',\n",
       "  'someone',\n",
       "  'two',\n",
       "  'itself',\n",
       "  'however',\n",
       "  'cant',\n",
       "  'none',\n",
       "  'with',\n",
       "  'latter',\n",
       "  'whoever',\n",
       "  'four',\n",
       "  'whereas',\n",
       "  'due',\n",
       "  'side',\n",
       "  'indeed',\n",
       "  'others',\n",
       "  'because',\n",
       "  'after',\n",
       "  'whereupon',\n",
       "  'ourselves',\n",
       "  'them',\n",
       "  'serious',\n",
       "  'himself',\n",
       "  'thru',\n",
       "  'hers',\n",
       "  'yet',\n",
       "  'somewhere',\n",
       "  'who',\n",
       "  'or',\n",
       "  'nowhere',\n",
       "  'hereafter',\n",
       "  'mostly',\n",
       "  'throughout',\n",
       "  'via',\n",
       "  'once',\n",
       "  'as',\n",
       "  'into',\n",
       "  'ten',\n",
       "  'whatever',\n",
       "  'us',\n",
       "  'yours',\n",
       "  'my',\n",
       "  'is',\n",
       "  'six',\n",
       "  'amoungst',\n",
       "  'myself',\n",
       "  'sincere',\n",
       "  'of',\n",
       "  'across',\n",
       "  'before',\n",
       "  'becoming',\n",
       "  'hereupon',\n",
       "  'made',\n",
       "  'were',\n",
       "  'wherever',\n",
       "  'than',\n",
       "  'put',\n",
       "  'noone',\n",
       "  'namely',\n",
       "  'too',\n",
       "  'these',\n",
       "  'off',\n",
       "  'enough',\n",
       "  'became',\n",
       "  'another',\n",
       "  'it',\n",
       "  'otherwise',\n",
       "  'sixty',\n",
       "  'what',\n",
       "  'un',\n",
       "  'thereafter',\n",
       "  'so',\n",
       "  'those',\n",
       "  'behind',\n",
       "  'couldnt',\n",
       "  'anywhere',\n",
       "  'less',\n",
       "  'de',\n",
       "  'part',\n",
       "  'several',\n",
       "  'themselves',\n",
       "  'anything',\n",
       "  'i',\n",
       "  'against',\n",
       "  'describe',\n",
       "  'there',\n",
       "  'something',\n",
       "  'anyhow',\n",
       "  'such',\n",
       "  'may',\n",
       "  'me',\n",
       "  'nine',\n",
       "  'bill',\n",
       "  'for',\n",
       "  'anyone',\n",
       "  'some',\n",
       "  'his',\n",
       "  'often',\n",
       "  'other',\n",
       "  'up',\n",
       "  'always',\n",
       "  'one',\n",
       "  'every',\n",
       "  'could',\n",
       "  'am',\n",
       "  'else',\n",
       "  'can',\n",
       "  'no',\n",
       "  'cry',\n",
       "  'therein',\n",
       "  'take',\n",
       "  'whether',\n",
       "  'show',\n",
       "  'now',\n",
       "  'thick',\n",
       "  'front',\n",
       "  'first',\n",
       "  'then',\n",
       "  'mine',\n",
       "  'towards',\n",
       "  'have',\n",
       "  'becomes',\n",
       "  'must',\n",
       "  'afterwards',\n",
       "  'among',\n",
       "  'detail',\n",
       "  'ever',\n",
       "  'where',\n",
       "  'and',\n",
       "  'along',\n",
       "  'herself',\n",
       "  'although',\n",
       "  'twelve',\n",
       "  'onto',\n",
       "  'full',\n",
       "  'fill',\n",
       "  'hundred',\n",
       "  'on',\n",
       "  'cannot',\n",
       "  'please',\n",
       "  'empty',\n",
       "  'in',\n",
       "  'see',\n",
       "  'which',\n",
       "  'though',\n",
       "  'anyway',\n",
       "  'how',\n",
       "  'your',\n",
       "  'thence',\n",
       "  'whereafter',\n",
       "  'third',\n",
       "  'ours',\n",
       "  'neither',\n",
       "  'sometime',\n",
       "  'around',\n",
       "  'hence',\n",
       "  'not',\n",
       "  'this',\n",
       "  'thereupon',\n",
       "  'never',\n",
       "  'by',\n",
       "  'formerly',\n",
       "  'former',\n",
       "  'being',\n",
       "  'mill',\n",
       "  'whom',\n",
       "  'eight',\n",
       "  'beforehand',\n",
       "  'name',\n",
       "  'whenever',\n",
       "  'eg',\n",
       "  'except',\n",
       "  'move',\n",
       "  'go',\n",
       "  'get',\n",
       "  'seemed',\n",
       "  'together',\n",
       "  'over',\n",
       "  'few',\n",
       "  'least',\n",
       "  'yourselves',\n",
       "  'while',\n",
       "  'nobody',\n",
       "  'bottom',\n",
       "  'per',\n",
       "  'moreover',\n",
       "  'elsewhere',\n",
       "  'fire',\n",
       "  'interest',\n",
       "  'be',\n",
       "  're',\n",
       "  'everyone',\n",
       "  'about',\n",
       "  'any',\n",
       "  'the',\n",
       "  'therefore',\n",
       "  'below',\n",
       "  'eleven',\n",
       "  'if',\n",
       "  'she',\n",
       "  'five',\n",
       "  'own',\n",
       "  'still',\n",
       "  'everywhere',\n",
       "  'whereby',\n",
       "  'their',\n",
       "  'give',\n",
       "  'upon',\n",
       "  'an',\n",
       "  'why',\n",
       "  'beyond',\n",
       "  'whence',\n",
       "  'that',\n",
       "  'nothing',\n",
       "  'done',\n",
       "  'only',\n",
       "  'back',\n",
       "  'during',\n",
       "  'almost',\n",
       "  'next',\n",
       "  'has',\n",
       "  'already',\n",
       "  'nevertheless',\n",
       "  'either',\n",
       "  'twenty',\n",
       "  'con',\n",
       "  'latterly',\n",
       "  'also',\n",
       "  'within',\n",
       "  'forty',\n",
       "  'thin',\n",
       "  'again',\n",
       "  'a',\n",
       "  'at',\n",
       "  'when',\n",
       "  'beside',\n",
       "  'besides',\n",
       "  'many',\n",
       "  'whole',\n",
       "  'well',\n",
       "  'inc',\n",
       "  'sometimes',\n",
       "  'should',\n",
       "  'under',\n",
       "  'would',\n",
       "  'do',\n",
       "  'might',\n",
       "  'toward',\n",
       "  'fifteen',\n",
       "  'find',\n",
       "  'each',\n",
       "  'most',\n",
       "  'down',\n",
       "  'its',\n",
       "  'seems',\n",
       "  'ltd',\n",
       "  'above',\n",
       "  'seem',\n",
       "  'fire',\n",
       "  'firefighters',\n",
       "  'twitter',\n",
       "  'pic',\n",
       "  'www',\n",
       "  'http',\n",
       "  'https',\n",
       "  'com',\n",
       "  'ho',\n",
       "  'bad',\n",
       "  'new',\n",
       "  'round',\n",
       "  '3a',\n",
       "  'trueanthem',\n",
       "  'content',\n",
       "  'content_utm',\n",
       "  'wildfire',\n",
       "  'busted',\n",
       "  'burns',\n",
       "  'patch',\n",
       "  'california',\n",
       "  'utm_campaign',\n",
       "  'massive',\n",
       "  'haunted']}"
      ]
     },
     "execution_count": 251,
     "metadata": {},
     "output_type": "execute_result"
    }
   ],
   "source": [
    "gs.best_params_"
   ]
  },
  {
   "cell_type": "code",
   "execution_count": 1,
   "metadata": {
    "scrolled": false
   },
   "outputs": [],
   "source": [
    "#what_score(gs.best_estimator_, X, y)"
   ]
  },
  {
   "cell_type": "code",
   "execution_count": 28,
   "metadata": {
    "scrolled": false
   },
   "outputs": [],
   "source": [
    "def what_score(your_model, your_X, your_y):\n",
    "    \"\"\"\n",
    "    Return train score, test score, cv score\n",
    "    \n",
    "    Parameter:\n",
    "    your_model: estimator\n",
    "    your X: X\n",
    "    your y: y\n",
    "    \"\"\"\n",
    "    X_train, X_test, y_train, y_test = train_test_split(your_X,your_y, random_state = 740)\n",
    "    train_score = your_model.score(X_train, y_train)\n",
    "    test_score = your_model.score(X_test, y_test)\n",
    "    cv_score = cross_val_score(your_model, X_train, y_train, cv = 5).mean()\n",
    "    \n",
    "#     pd.DataFrame({'train': train_score, 'test': test_score, 'cv': cv_score})\n",
    "    \n",
    "    return {'train': train_score, 'test':test_score, \"cv score\": cv_score}"
   ]
  },
  {
   "cell_type": "code",
   "execution_count": 29,
   "metadata": {},
   "outputs": [],
   "source": [
    "def coef_df(gridsearch_model, X_train, y_train ,vect_str = 'cvec', reg_str = 'lr' ):\n",
    "    \"\"\"\n",
    "    Return a dataframe with columns\n",
    "        1. words\n",
    "        2. coefficient weight (log odd)\n",
    "        3. exponent of coefficient weight (odd)\n",
    "    from a gridsearch model with a vectorizer and a logistic regression.\n",
    "    \n",
    "    \"\"\"\n",
    "\n",
    "    col_names = gridsearch_model.best_estimator_.named_steps[vect_str].get_feature_names()\n",
    "    col_coef = gridsearch_model.best_estimator_.named_steps[reg_str].coef_[0]\n",
    "\n",
    "    cvec_coef_df = pd.DataFrame({\n",
    "        'words' : col_names,\n",
    "        'coef' : col_coef,\n",
    "        'exp_coef': np.exp(col_coef)    \n",
    "    })\n",
    "    \n",
    "    return pd.DataFrame(cvec_coef_df)"
   ]
  },
  {
   "cell_type": "code",
   "execution_count": 35,
   "metadata": {},
   "outputs": [],
   "source": [
    "#coef_tfidf = coef_df(gs, X_train, y_train ,vect_str = 'tfidf', reg_str = 'logreg' )"
   ]
  },
  {
   "cell_type": "code",
   "execution_count": 34,
   "metadata": {},
   "outputs": [],
   "source": [
    "#coef_tfidf['coef'].value_counts()"
   ]
  },
  {
   "cell_type": "markdown",
   "metadata": {},
   "source": [
    "**Using a function to get the best estimators (CONFUSION METRICS) from our Gridsearch above**\n",
    "\n",
    "`Training score`: 0.8784669692385275\n",
    "\n",
    "`Testing score`: 0.8940998487140696\n",
    "\n",
    "`cv score` : 0.8300676793120119\n",
    "\n",
    "`Sensitivity` : 0.6931216931216931\n",
    "\n",
    "`Specificity` : 0.9745762711864406\n",
    "\n",
    "\n"
   ]
  },
  {
   "cell_type": "code",
   "execution_count": 37,
   "metadata": {},
   "outputs": [
    {
     "name": "stderr",
     "output_type": "stream",
     "text": [
      "/Users/jk/anaconda3/lib/python3.7/site-packages/sklearn/linear_model/logistic.py:432: FutureWarning: Default solver will be changed to 'lbfgs' in 0.22. Specify a solver to silence this warning.\n",
      "  FutureWarning)\n",
      "/Users/jk/anaconda3/lib/python3.7/site-packages/sklearn/linear_model/logistic.py:432: FutureWarning: Default solver will be changed to 'lbfgs' in 0.22. Specify a solver to silence this warning.\n",
      "  FutureWarning)\n",
      "/Users/jk/anaconda3/lib/python3.7/site-packages/sklearn/linear_model/logistic.py:432: FutureWarning: Default solver will be changed to 'lbfgs' in 0.22. Specify a solver to silence this warning.\n",
      "  FutureWarning)\n",
      "/Users/jk/anaconda3/lib/python3.7/site-packages/sklearn/linear_model/logistic.py:432: FutureWarning: Default solver will be changed to 'lbfgs' in 0.22. Specify a solver to silence this warning.\n",
      "  FutureWarning)\n",
      "/Users/jk/anaconda3/lib/python3.7/site-packages/sklearn/linear_model/logistic.py:432: FutureWarning: Default solver will be changed to 'lbfgs' in 0.22. Specify a solver to silence this warning.\n",
      "  FutureWarning)\n"
     ]
    },
    {
     "data": {
      "text/plain": [
       "{'train': 0.8784669692385275,\n",
       " 'test': 0.8940998487140696,\n",
       " 'cv score': 0.8300676793120119,\n",
       " 'sensitivity': 0.6931216931216931,\n",
       " 'specificity': 0.9745762711864406}"
      ]
     },
     "execution_count": 37,
     "metadata": {},
     "output_type": "execute_result"
    }
   ],
   "source": [
    "what_score(gs.best_estimator_, X, y)"
   ]
  },
  {
   "cell_type": "code",
   "execution_count": null,
   "metadata": {},
   "outputs": [],
   "source": []
  },
  {
   "cell_type": "code",
   "execution_count": null,
   "metadata": {},
   "outputs": [],
   "source": []
  },
  {
   "cell_type": "markdown",
   "metadata": {},
   "source": [
    "# Random Forest : TF- IDF"
   ]
  },
  {
   "cell_type": "markdown",
   "metadata": {},
   "source": [
    "**Searching for best hyperparameters using Gridsearch**\n",
    "\n",
    "| Argument | Description |\n",
    "| --- | ---|\n",
    "| **`penalty`** | Used to specify the norm used in the penalization  |\n",
    "| **`n_gram_range`** | The lower and upper boundary of the range of n-values for different n-grams to be extracted. |\n",
    "| **`stop_words`** | List is assumed to contain stop words, all of which will be removed from the resulting tokens. |\n",
    "| **`max_df`** | When building the vocabulary ignore terms that have a document frequency strictly higher than the given threshold  |\n",
    "| **`min_df`** | When building the vocabulary ignore terms that have a document frequency strictly lower than the given threshold. |\n",
    "| **`analyzer`** | Whether the feature should be made of word or character n-grams. |\n",
    "| **`max_features`** | Build a vocabulary that only consider the top max_features ordered by term frequency across the corpus |\n",
    "| **`n_estimators`** | The number of trees in the forest. |\n",
    "| **`max_depth`** | The maximum depth of the tree. |\n"
   ]
  },
  {
   "cell_type": "code",
   "execution_count": 38,
   "metadata": {},
   "outputs": [],
   "source": [
    "pipe_2 = Pipeline([('tfidf', TfidfVectorizer()),\n",
    "                 ('rf', RandomForestClassifier())\n",
    "                ])\n",
    "\n",
    "\n",
    "pipe_params_2 = {\n",
    "    'tfidf__ngram_range' :[(1,1)],\n",
    "    'tfidf__stop_words' :[custom_stop],\n",
    "    'tfidf__max_df':[.8],\n",
    "    'tfidf__min_df' :[3,4,5,6,7],\n",
    "    'tfidf__analyzer': ['word'],\n",
    "    'tfidf__max_features':[5000, 3000, 2000],\n",
    "    'rf__n_estimators':[10, 100, 300],\n",
    "    'rf__max_depth' : [4, 5, 6],\n",
    "    \n",
    "}\n",
    "\n",
    "\n"
   ]
  },
  {
   "cell_type": "code",
   "execution_count": 39,
   "metadata": {},
   "outputs": [],
   "source": [
    "gs_2 = GridSearchCV(pipe_2, param_grid = pipe_params_2, cv = 5)"
   ]
  },
  {
   "cell_type": "code",
   "execution_count": 40,
   "metadata": {},
   "outputs": [
    {
     "data": {
      "text/plain": [
       "GridSearchCV(cv=5, error_score='raise-deprecating',\n",
       "             estimator=Pipeline(memory=None,\n",
       "                                steps=[('tfidf',\n",
       "                                        TfidfVectorizer(analyzer='word',\n",
       "                                                        binary=False,\n",
       "                                                        decode_error='strict',\n",
       "                                                        dtype=<class 'numpy.float64'>,\n",
       "                                                        encoding='utf-8',\n",
       "                                                        input='content',\n",
       "                                                        lowercase=True,\n",
       "                                                        max_df=1.0,\n",
       "                                                        max_features=None,\n",
       "                                                        min_df=1,\n",
       "                                                        ngram_range=(1, 1),\n",
       "                                                        norm='l2',\n",
       "                                                        preprocessor=None,\n",
       "                                                        smooth_idf=True,\n",
       "                                                        stop_word...\n",
       "                         'tfidf__stop_words': [['anywhere', 'bottom',\n",
       "                                                'everywhere', 'up', 'fifty',\n",
       "                                                'twelve', 'though', 'my',\n",
       "                                                'become', 'interest',\n",
       "                                                'everyone', 'or', 'she',\n",
       "                                                'yourself', 'even', 'within',\n",
       "                                                'thus', 'the', 'keep',\n",
       "                                                'together', 'nobody', 'where',\n",
       "                                                'off', 'nowhere', 'because',\n",
       "                                                'to', 'around', 'any', 'under',\n",
       "                                                'sincere', ...]]},\n",
       "             pre_dispatch='2*n_jobs', refit=True, return_train_score=False,\n",
       "             scoring=None, verbose=0)"
      ]
     },
     "execution_count": 40,
     "metadata": {},
     "output_type": "execute_result"
    }
   ],
   "source": [
    "gs_2.fit(X_train, y_train)"
   ]
  },
  {
   "cell_type": "markdown",
   "metadata": {},
   "source": [
    "**Using a function to get the best estimators (CONFUSION METRICS) from our Gridsearch above**\n",
    "\n",
    "`Training score`: \n",
    "\n",
    "`Testing score`: \n",
    "\n",
    "`cv score` : \n",
    "\n",
    "`Sensitivity` : \n",
    "\n",
    "`Specificity` : "
   ]
  },
  {
   "cell_type": "code",
   "execution_count": 41,
   "metadata": {},
   "outputs": [
    {
     "data": {
      "text/plain": [
       "{'train': 0.7750882501260716,\n",
       " 'test': 0.7866868381240545,\n",
       " 'cv score': 0.7584459201587666,\n",
       " 'sensitivity': 0.2751322751322751,\n",
       " 'specificity': 0.9915254237288136}"
      ]
     },
     "execution_count": 41,
     "metadata": {},
     "output_type": "execute_result"
    }
   ],
   "source": [
    "what_score(gs_2.best_estimator_, X, y)"
   ]
  },
  {
   "cell_type": "code",
   "execution_count": 274,
   "metadata": {},
   "outputs": [],
   "source": [
    "def what_important(rf_model, X_rf):\n",
    "    \"\"\"\n",
    "    parameter:\n",
    "    rf_model: Your random forest model [ex) rf_model = RandomForestClassifier()]\n",
    "    X_rf: 'X' you used to fit your 'rf_model\n",
    "    \"\"\"\n",
    "    out = {'features': X_rf.columns,\n",
    "           'importance': rf_model.feature_importances_}\n",
    "    return pd.DataFrame(out).sort_values(by = 'importance', ascending = False)"
   ]
  },
  {
   "cell_type": "code",
   "execution_count": null,
   "metadata": {},
   "outputs": [],
   "source": []
  }
 ],
 "metadata": {
  "kernelspec": {
   "display_name": "Python 3",
   "language": "python",
   "name": "python3"
  },
  "language_info": {
   "codemirror_mode": {
    "name": "ipython",
    "version": 3
   },
   "file_extension": ".py",
   "mimetype": "text/x-python",
   "name": "python",
   "nbconvert_exporter": "python",
   "pygments_lexer": "ipython3",
   "version": "3.7.3"
  }
 },
 "nbformat": 4,
 "nbformat_minor": 2
}
