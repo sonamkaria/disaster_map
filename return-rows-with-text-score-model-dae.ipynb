{
 "cells": [
  {
   "cell_type": "code",
   "execution_count": 1,
   "metadata": {},
   "outputs": [],
   "source": [
    "import numpy as np\n",
    "import pandas as pd\n",
    "from sklearn.model_selection import train_test_splitain"
   ]
  },
  {
   "cell_type": "code",
   "execution_count": 2,
   "metadata": {},
   "outputs": [],
   "source": [
    "def what_post(dataframe, word):\n",
    "    \"\"\"\n",
    "    Return rows of 'orig_df' that 'word' is included in text\n",
    "    \n",
    "    Parameters\n",
    "    word: str or list\n",
    "    \"\"\"\n",
    "    if type(word) == str:\n",
    "        return dataframe[(dataframe['text'].str.contains(word))]\n",
    "    if type(word) == list:\n",
    "        return dataframe[dataframe['text'].str.contains('|'.join(word))]"
   ]
  },
  {
   "cell_type": "code",
   "execution_count": 3,
   "metadata": {},
   "outputs": [],
   "source": [
    "def what_score(your_model, your_X, your_y):\n",
    "    \"\"\"\n",
    "    Return train score, test score, cv score\n",
    "    \n",
    "    Parameter:\n",
    "    your_model: estimator\n",
    "    your X: X\n",
    "    your y: y\n",
    "    \"\"\"\n",
    "    X_train, X_test, y_train, y_test = train_test_split(your_X,your_y, random_state = 740)\n",
    "    train_score = your_model.score(X_train, y_train)\n",
    "    test_score = your_model.score(X_test, y_test)\n",
    "    cv_score = cross_val_score(your_model, X_train, y_train, cv = 5).mean()\n",
    "    \n",
    "#     pd.DataFrame({'train': train_score, 'test': test_score, 'cv': cv_score})\n",
    "    \n",
    "    return {'train': train_score, 'test':test_score, \"cv score\": cv_score}"
   ]
  },
  {
   "cell_type": "code",
   "execution_count": null,
   "metadata": {},
   "outputs": [],
   "source": []
  }
 ],
 "metadata": {
  "kernelspec": {
   "display_name": "Python 3",
   "language": "python",
   "name": "python3"
  },
  "language_info": {
   "codemirror_mode": {
    "name": "ipython",
    "version": 3
   },
   "file_extension": ".py",
   "mimetype": "text/x-python",
   "name": "python",
   "nbconvert_exporter": "python",
   "pygments_lexer": "ipython3",
   "version": "3.7.3"
  }
 },
 "nbformat": 4,
 "nbformat_minor": 2
}
