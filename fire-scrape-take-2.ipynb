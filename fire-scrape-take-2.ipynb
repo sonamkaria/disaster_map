{
 "cells": [
  {
   "cell_type": "code",
   "execution_count": 9,
   "metadata": {},
   "outputs": [],
   "source": [
    "import numpy as np\n",
    "import pandas as pd\n",
    "import GetOldTweets3 as got\n",
    "from datetime import datetime"
   ]
  },
  {
   "cell_type": "code",
   "execution_count": 10,
   "metadata": {},
   "outputs": [],
   "source": [
    "def scrape(hashtag, since, until, location_str, radius_str= '80km'):\n",
    "    \"\"\"\n",
    "    Scrap tweets using 'GetOldTweets3'\n",
    "    Return the dataframe\n",
    "    \n",
    "    Paramater:\n",
    "    hashtag: string/ hashtag to search for\n",
    "    since: 'yyyy-mm-dd'/ dates the tweets were created since\n",
    "    until: 'yyyy-mm-dd'/ dates the tweets were created until\n",
    "    save_csv: boolean/ if True, save the dataframe in csv\n",
    "    \"\"\"\n",
    "    tweetCriteria = got.manager.TweetCriteria().setQuerySearch(hashtag)\\\n",
    "                                                   .setTopTweets(False)\\\n",
    "                                                   .setSince(since).setUntil(until)\\\n",
    "                                                   .setNear(location_str)\\\n",
    "                                                   .setWithin(radius_str)\n",
    "                    \n",
    "    list_of_dicts = []\n",
    "    for tweet in got.manager.TweetManager.getTweets(tweetCriteria):\n",
    "        tweets = {}\n",
    "        tweets[\"text\"] = tweet.text\n",
    "        tweets[\"hashtags\"] = tweet.hashtags\n",
    "        tweets[\"user_name\"] = tweet.username\n",
    "    #     tweets[\"screen_name\"] = tweet.user.screen_name\n",
    "        tweets[\"date\"] = tweet.date\n",
    "        tweets[\"user_location\"] = tweet.geo\n",
    "    #     tweets[\"coordinates\"] = tweet.coordinates\n",
    "    #     tweets[\"retweet_count\"] = tweet.retweet_count\n",
    "    #     tweets[\"favorite_count\"] = tweet.favorite_count\n",
    "\n",
    "        list_of_dicts.append(tweets)\n",
    "\n",
    "    df = pd.DataFrame(list_of_dicts)\n",
    "    now = datetime.now()\n",
    "    df.to_csv(\"./tweets/\"+str(hashtag)+now.strftime('%-H_%-m_%-d')+\".csv\", index=False)"
   ]
  },
  {
   "cell_type": "code",
   "execution_count": null,
   "metadata": {},
   "outputs": [],
   "source": [
    "scrape(hashtag=\"#KincadeFire\", since=\"2019-10-23\", until=\"2019-10-29\", location_str=\"San Francisco\")"
   ]
  },
  {
   "cell_type": "code",
   "execution_count": null,
   "metadata": {},
   "outputs": [],
   "source": []
  }
 ],
 "metadata": {
  "kernelspec": {
   "display_name": "Python 3",
   "language": "python",
   "name": "python3"
  },
  "language_info": {
   "codemirror_mode": {
    "name": "ipython",
    "version": 3
   },
   "file_extension": ".py",
   "mimetype": "text/x-python",
   "name": "python",
   "nbconvert_exporter": "python",
   "pygments_lexer": "ipython3",
   "version": "3.7.3"
  }
 },
 "nbformat": 4,
 "nbformat_minor": 2
}
