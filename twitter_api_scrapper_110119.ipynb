{
 "cells": [
  {
   "cell_type": "code",
   "execution_count": 5,
   "metadata": {},
   "outputs": [],
   "source": [
    "import twitter, json\n",
    "import pandas as pd\n",
    "\n",
    "from datetime import datetime"
   ]
  },
  {
   "cell_type": "markdown",
   "metadata": {},
   "source": [
    "### 1. Authorization\n",
    "\n",
    "- **Step 1** Save your credential as following in a json file\n",
    "- **Step 1** Name the json file \"creds.json\" and save it in the directory this jupyter notebook is located.\n",
    "\n",
    "```\n",
    "{'consumer_key':        CONSUMER_KEY,\n",
    " 'consumer_secret':     CONSUMER_SECRET,\n",
    " 'access_token_key':    ACCESS_TOKEN,\n",
    " 'access_token_secret': ACCESS_TOKEN_SECRET}```"
   ]
  },
  {
   "cell_type": "code",
   "execution_count": 9,
   "metadata": {},
   "outputs": [],
   "source": [
    "creds_file = open('./creds.json', 'r')\n",
    "twitter_keys = json.loads(creds_file.read())"
   ]
  },
  {
   "cell_type": "code",
   "execution_count": 11,
   "metadata": {},
   "outputs": [],
   "source": [
    "api = twitter.Api(consumer_key         =   twitter_keys['consumer_key'],\n",
    "                  consumer_secret      =   twitter_keys['consumer_key_secret'],\n",
    "                  access_token_key     =   twitter_keys['access_token'],\n",
    "                  access_token_secret  =   twitter_keys['access_token_secret'])"
   ]
  },
  {
   "cell_type": "markdown",
   "metadata": {},
   "source": [
    "### 2. Search for tweets\n",
    "- `term`: *str* | keyword to search for\n",
    "- `geocode`: *str* | geographic coordinate [\"longitude,latitude,radius\"]"
   ]
  },
  {
   "cell_type": "code",
   "execution_count": 58,
   "metadata": {},
   "outputs": [],
   "source": [
    "tweets = api.GetSearch(term = 'fire',\n",
    "              geocode = \"34.086139,-118.480466,1mi\")"
   ]
  },
  {
   "cell_type": "markdown",
   "metadata": {},
   "source": [
    "### 3. Save the search result in a dataframe"
   ]
  },
  {
   "cell_type": "code",
   "execution_count": 242,
   "metadata": {},
   "outputs": [],
   "source": [
    "# Grab result from the search\n",
    "created_at = []\n",
    "\n",
    "user_id = []\n",
    "user_location = []\n",
    "user_name = []\n",
    "\n",
    "location_type = []\n",
    "location = []\n",
    "coordinate = []\n",
    "\n",
    "hashtags = [] \n",
    "text = []\n",
    "\n",
    "for tweet in tweets:\n",
    "    td = tweet.__dict__\n",
    "    created_at.append(td[\"created_at\"])\n",
    "    hashtags.append([hg.text for hg in td[\"hashtags\"]])\n",
    "    user_id.append(td[\"id\"])\n",
    "    location_type.append(td[\"place\"][\"place_type\"])\n",
    "    location.append(td[\"place\"][\"full_name\"])\n",
    "    coordinate.append(td[\"place\"][\"bounding_box\"][\"coordinates\"])\n",
    "    user_location.append(td[\"user\"].location)\n",
    "    user_name.append(td[\"user\"].screen_name)\n",
    "    text.append(td[\"text\"])\n",
    "\n",
    "# Save the result in a dataframe\n",
    "keys = [\"created_at\", \"user_id\", \"user_location\", \"user_name\",\n",
    "        \"location_type\", \"location\", \"coordinate\",\n",
    "        \"hashtags\", \"text\"]\n",
    "values = [created_at, user_id, user_location, user_name,\n",
    "          location_type, location, coordinate,\n",
    "          hashtags, text]\n",
    "out_df = {}\n",
    "\n",
    "for key, value in zip(keys, values):\n",
    "    out_df[key] = value\n",
    "    \n",
    "result = pd.DataFrame(out_df)"
   ]
  },
  {
   "cell_type": "code",
   "execution_count": 243,
   "metadata": {},
   "outputs": [
    {
     "data": {
      "text/html": [
       "<div>\n",
       "<style scoped>\n",
       "    .dataframe tbody tr th:only-of-type {\n",
       "        vertical-align: middle;\n",
       "    }\n",
       "\n",
       "    .dataframe tbody tr th {\n",
       "        vertical-align: top;\n",
       "    }\n",
       "\n",
       "    .dataframe thead th {\n",
       "        text-align: right;\n",
       "    }\n",
       "</style>\n",
       "<table border=\"1\" class=\"dataframe\">\n",
       "  <thead>\n",
       "    <tr style=\"text-align: right;\">\n",
       "      <th></th>\n",
       "      <th>created_at</th>\n",
       "      <th>user_id</th>\n",
       "      <th>user_location</th>\n",
       "      <th>user_name</th>\n",
       "      <th>location_type</th>\n",
       "      <th>location</th>\n",
       "      <th>coordinate</th>\n",
       "      <th>hashtags</th>\n",
       "      <th>text</th>\n",
       "    </tr>\n",
       "  </thead>\n",
       "  <tbody>\n",
       "    <tr>\n",
       "      <th>0</th>\n",
       "      <td>Mon Oct 28 13:12:33 +0000 2019</td>\n",
       "      <td>1188805755056447488</td>\n",
       "      <td>Los Angeles, CA</td>\n",
       "      <td>abc7JoshHaskell</td>\n",
       "      <td>poi</td>\n",
       "      <td>Crestwood Hills Recreation Center</td>\n",
       "      <td>[[[-118.48855366158007, 34.07648455000092], [-...</td>\n",
       "      <td>[tigertail, Brentwood]</td>\n",
       "      <td>Horrible situation on #tigertail right now in ...</td>\n",
       "    </tr>\n",
       "    <tr>\n",
       "      <th>1</th>\n",
       "      <td>Mon Oct 28 19:17:07 +0000 2019</td>\n",
       "      <td>1188897501278900224</td>\n",
       "      <td>Los Angeles</td>\n",
       "      <td>abc7robhayes</td>\n",
       "      <td>neighborhood</td>\n",
       "      <td>Brentwood, Los Angeles</td>\n",
       "      <td>[[[-118.528736, 34.041356], [-118.457499, 34.0...</td>\n",
       "      <td>[]</td>\n",
       "      <td>Before/After the Getty Fire. \\n\\nThis is 1510 ...</td>\n",
       "    </tr>\n",
       "    <tr>\n",
       "      <th>2</th>\n",
       "      <td>Wed Oct 30 07:50:37 +0000 2019</td>\n",
       "      <td>1189449512961495040</td>\n",
       "      <td>Los Angeles, CA</td>\n",
       "      <td>jintakhan</td>\n",
       "      <td>poi</td>\n",
       "      <td>Mount St. Mary's College Campus Center</td>\n",
       "      <td>[[[-118.48168318584761, 34.08396202249944], [-...</td>\n",
       "      <td>[]</td>\n",
       "      <td>Up at Mount St. Mary’s University. The wind is...</td>\n",
       "    </tr>\n",
       "    <tr>\n",
       "      <th>3</th>\n",
       "      <td>Tue Oct 29 16:31:26 +0000 2019</td>\n",
       "      <td>1189218195116158976</td>\n",
       "      <td>santa monica . maine . boston</td>\n",
       "      <td>runawaykat</td>\n",
       "      <td>neighborhood</td>\n",
       "      <td>Brentwood, Los Angeles</td>\n",
       "      <td>[[[-118.528736, 34.041356], [-118.457499, 34.0...</td>\n",
       "      <td>[]</td>\n",
       "      <td>los angeles renters, i just asked my leasing o...</td>\n",
       "    </tr>\n",
       "  </tbody>\n",
       "</table>\n",
       "</div>"
      ],
      "text/plain": [
       "                       created_at              user_id  \\\n",
       "0  Mon Oct 28 13:12:33 +0000 2019  1188805755056447488   \n",
       "1  Mon Oct 28 19:17:07 +0000 2019  1188897501278900224   \n",
       "2  Wed Oct 30 07:50:37 +0000 2019  1189449512961495040   \n",
       "3  Tue Oct 29 16:31:26 +0000 2019  1189218195116158976   \n",
       "\n",
       "                   user_location        user_name location_type  \\\n",
       "0                Los Angeles, CA  abc7JoshHaskell           poi   \n",
       "1                    Los Angeles     abc7robhayes  neighborhood   \n",
       "2                Los Angeles, CA        jintakhan           poi   \n",
       "3  santa monica . maine . boston       runawaykat  neighborhood   \n",
       "\n",
       "                                 location  \\\n",
       "0       Crestwood Hills Recreation Center   \n",
       "1                  Brentwood, Los Angeles   \n",
       "2  Mount St. Mary's College Campus Center   \n",
       "3                  Brentwood, Los Angeles   \n",
       "\n",
       "                                          coordinate                hashtags  \\\n",
       "0  [[[-118.48855366158007, 34.07648455000092], [-...  [tigertail, Brentwood]   \n",
       "1  [[[-118.528736, 34.041356], [-118.457499, 34.0...                      []   \n",
       "2  [[[-118.48168318584761, 34.08396202249944], [-...                      []   \n",
       "3  [[[-118.528736, 34.041356], [-118.457499, 34.0...                      []   \n",
       "\n",
       "                                                text  \n",
       "0  Horrible situation on #tigertail right now in ...  \n",
       "1  Before/After the Getty Fire. \\n\\nThis is 1510 ...  \n",
       "2  Up at Mount St. Mary’s University. The wind is...  \n",
       "3  los angeles renters, i just asked my leasing o...  "
      ]
     },
     "execution_count": 243,
     "metadata": {},
     "output_type": "execute_result"
    }
   ],
   "source": [
    "result"
   ]
  },
  {
   "cell_type": "code",
   "execution_count": null,
   "metadata": {},
   "outputs": [],
   "source": []
  }
 ],
 "metadata": {
  "kernelspec": {
   "display_name": "Python 3",
   "language": "python",
   "name": "python3"
  },
  "language_info": {
   "codemirror_mode": {
    "name": "ipython",
    "version": 3
   },
   "file_extension": ".py",
   "mimetype": "text/x-python",
   "name": "python",
   "nbconvert_exporter": "python",
   "pygments_lexer": "ipython3",
   "version": "3.6.9"
  }
 },
 "nbformat": 4,
 "nbformat_minor": 2
}
